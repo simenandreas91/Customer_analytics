{
 "cells": [
  {
   "cell_type": "markdown",
   "metadata": {},
   "source": [
    "# Purchasing Analytics"
   ]
  },
  {
   "cell_type": "markdown",
   "metadata": {},
   "source": [
    "In this notebook, I will analyse the purchasing behavior of the customers.\n",
    "\n",
    "The dataset we are going to use is a dataset of each transaction, rather than the customer from the last one.\n",
    "The dataset consists of 500 individuals and their purchase of candy bars from the same store over a period of 2 years."
   ]
  },
  {
   "cell_type": "markdown",
   "metadata": {},
   "source": [
    "Here are the Legend:\n",
    "\n",
    "![](Legend1.png)\n",
    "\n",
    "![](Legend2.png)"
   ]
  },
  {
   "cell_type": "code",
   "execution_count": null,
   "metadata": {},
   "outputs": [],
   "source": []
  }
 ],
 "metadata": {
  "language_info": {
   "name": "python"
  },
  "orig_nbformat": 4
 },
 "nbformat": 4,
 "nbformat_minor": 2
}
